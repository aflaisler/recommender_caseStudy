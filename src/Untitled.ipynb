{
 "cells": [
  {
   "cell_type": "code",
   "execution_count": 2,
   "metadata": {
    "collapsed": true
   },
   "outputs": [],
   "source": [
    "import pandas as pd\n",
    "import graphlab as gl"
   ]
  },
  {
   "cell_type": "code",
   "execution_count": 5,
   "metadata": {
    "collapsed": false
   },
   "outputs": [
    {
     "data": {
      "text/html": [
       "<pre>Finished parsing file /Users/apoorvc/recommender_caseStudy/data/jokes.dat</pre>"
      ],
      "text/plain": [
       "Finished parsing file /Users/apoorvc/recommender_caseStudy/data/jokes.dat"
      ]
     },
     "metadata": {},
     "output_type": "display_data"
    },
    {
     "data": {
      "text/html": [
       "<pre>Parsing completed. Parsed 100 lines in 0.044875 secs.</pre>"
      ],
      "text/plain": [
       "Parsing completed. Parsed 100 lines in 0.044875 secs."
      ]
     },
     "metadata": {},
     "output_type": "display_data"
    },
    {
     "name": "stdout",
     "output_type": "stream",
     "text": [
      "------------------------------------------------------\n",
      "Inferred types from first 100 line(s) of file as \n",
      "column_type_hints=[str]\n",
      "If parsing fails due to incorrect types, you can correct\n",
      "the inferred type list above and pass it to read_csv in\n",
      "the column_type_hints argument\n",
      "------------------------------------------------------\n"
     ]
    },
    {
     "data": {
      "text/html": [
       "<pre>Finished parsing file /Users/apoorvc/recommender_caseStudy/data/jokes.dat</pre>"
      ],
      "text/plain": [
       "Finished parsing file /Users/apoorvc/recommender_caseStudy/data/jokes.dat"
      ]
     },
     "metadata": {},
     "output_type": "display_data"
    },
    {
     "data": {
      "text/html": [
       "<pre>Parsing completed. Parsed 1276 lines in 0.02049 secs.</pre>"
      ],
      "text/plain": [
       "Parsing completed. Parsed 1276 lines in 0.02049 secs."
      ]
     },
     "metadata": {},
     "output_type": "display_data"
    }
   ],
   "source": [
    "sf = gl.SFrame('../data/jokes.dat', format = 'tsv')"
   ]
  },
  {
   "cell_type": "code",
   "execution_count": 8,
   "metadata": {
    "collapsed": false
   },
   "outputs": [
    {
     "data": {
      "text/plain": [
       "{'1:': 'The man replies, &quot;Well, thank God I don&#039;t have cancer!&quot;'}"
      ]
     },
     "execution_count": 8,
     "metadata": {},
     "output_type": "execute_result"
    }
   ],
   "source": [
    "sf[3]"
   ]
  },
  {
   "cell_type": "code",
   "execution_count": 19,
   "metadata": {
    "collapsed": false
   },
   "outputs": [
    {
     "name": "stdout",
     "output_type": "stream",
     "text": [
      "                                                      0\n",
      "0                                                  1:\\n\n",
      "1                                               <p>\\r\\n\n",
      "2     A man visits the doctor. The doctor says, &quo...\n",
      "3                                            <br />\\r\\n\n",
      "4     The man replies, &quot;Well, thank God I don&#...\n",
      "5                                              </p>\\r\\n\n",
      "6                                                    \\n\n",
      "7                                                  2:\\n\n",
      "8                                               <p>\\r\\n\n",
      "9     This couple had an excellent relationship goin...\n",
      "10                                           <br />\\r\\n\n",
      "11    &quot;What could they possibly have said to ma...\n",
      "12                                           <br />\\r\\n\n",
      "13    &quot;They told me that you were a pedophile.&...\n",
      "14                                           <br />\\r\\n\n",
      "15    He replied, &quot;That&#039;s an awfully big w...\n",
      "16                                             </p>\\r\\n\n",
      "17                                                   \\n\n",
      "18                                                 3:\\n\n",
      "19                                              <p>\\r\\n\n",
      "20    Q. What&#039;s 200 feet long and has 4 teeth?<...\n",
      "21                                           <br />\\r\\n\n",
      "22     A. The front row at a Willie Nelson concert.\\r\\n\n",
      "23                                             </p>\\r\\n\n",
      "24                                                   \\n\n",
      "25                                                 4:\\n\n",
      "26                                              <p>\\r\\n\n",
      "27    Q. What&#039;s the difference between a man an...\n",
      "28                                           <br />\\r\\n\n",
      "29    A. A toilet doesn&#039;t follow you around aft...\n",
      "...                                                 ...\n",
      "1397                                         <br />\\r\\n\n",
      "1398  The teacher answered quickly, &quot;That would...\n",
      "1399                                         <br />\\r\\n\n",
      "1400  St. Peter turned to the garbage man and, figur...\n",
      "1401                                         <br />\\r\\n\n",
      "1402  Fortunately for him, the trash man had just se...\n",
      "1403                                         <br />\\r\\n\n",
      "1404  &quot;That&#039;s right! You may enter.&quot;<...\n",
      "1405                                         <br />\\r\\n\n",
      "1406  St. Peter turned to the lawyer: &quot;Name the...\n",
      "1407                                           </p>\\r\\n\n",
      "1408                                                 \\n\n",
      "1409                                             149:\\n\n",
      "1410                                            <p>\\r\\n\n",
      "1411  A little girl asked her father, &quot;Daddy? D...\n",
      "1412                                         <br />\\r\\n\n",
      "1413  He replied, &quot;No, there is a whole series ...\n",
      "1414                                           </p>\\r\\n\n",
      "1415                                                 \\n\n",
      "1416                                             150:\\n\n",
      "1417                                            <p>\\r\\n\n",
      "1418  In an interview with David Letterman, Carter p...\n",
      "1419                                         <br />\\r\\n\n",
      "1420  He told the joke, then waited for the translat...\n",
      "1421                                         <br />\\r\\n\n",
      "1422  After the speech, Carter wanted to meet the tr...\n",
      "1423                                         <br />\\r\\n\n",
      "1424  When Carter asked how the joke had been told i...\n",
      "1425                                           </p>\\r\\n\n",
      "1426                                                 \\n\n",
      "\n",
      "[1427 rows x 1 columns]\n"
     ]
    }
   ],
   "source": [
    "with open('../data/jokes.dat','r') as f:\n",
    "    df = pd.DataFrame(i for i in f)\n",
    "\n",
    "print(df)"
   ]
  },
  {
   "cell_type": "code",
   "execution_count": 22,
   "metadata": {
    "collapsed": false
   },
   "outputs": [
    {
     "data": {
      "text/plain": [
       "<pandas.core.indexing._iLocIndexer at 0x11b30ac90>"
      ]
     },
     "execution_count": 22,
     "metadata": {},
     "output_type": "execute_result"
    }
   ],
   "source": [
    "df.iloc(4)"
   ]
  },
  {
   "cell_type": "code",
   "execution_count": 23,
   "metadata": {
    "collapsed": true
   },
   "outputs": [],
   "source": [
    "numpymatrx = df.as_matrix()"
   ]
  },
  {
   "cell_type": "code",
   "execution_count": 24,
   "metadata": {
    "collapsed": false
   },
   "outputs": [
    {
     "data": {
      "text/plain": [
       "array([['1:\\n'],\n",
       "       ['<p>\\r\\n'],\n",
       "       [ 'A man visits the doctor. The doctor says, &quot;I have bad news for you. You have cancer and Alzheimer&#039;s disease&quot;.<br />\\r\\n'],\n",
       "       ..., \n",
       "       [ 'When Carter asked how the joke had been told in Japanese, the translator responded, &quot;I told them, &#039;President Carter has told a very funny joke. Please laugh now.&#039;&quot;\\r\\n'],\n",
       "       ['</p>\\r\\n'],\n",
       "       ['\\n']], dtype=object)"
      ]
     },
     "execution_count": 24,
     "metadata": {},
     "output_type": "execute_result"
    }
   ],
   "source": [
    "numpymatrx"
   ]
  },
  {
   "cell_type": "code",
   "execution_count": 26,
   "metadata": {
    "collapsed": false
   },
   "outputs": [
    {
     "data": {
      "text/plain": [
       "array([['1:\\n'],\n",
       "       ['<p>\\r\\n'],\n",
       "       [ 'A man visits the doctor. The doctor says, &quot;I have bad news for you. You have cancer and Alzheimer&#039;s disease&quot;.<br />\\r\\n'],\n",
       "       ['<br />\\r\\n'],\n",
       "       [ 'The man replies, &quot;Well, thank God I don&#039;t have cancer!&quot;\\r\\n'],\n",
       "       ['</p>\\r\\n'],\n",
       "       ['\\n'],\n",
       "       ['2:\\n'],\n",
       "       ['<p>\\r\\n'],\n",
       "       [ 'This couple had an excellent relationship going until one day he came home from work to find his girlfriend packing. He asked her why she was leaving him and she told him that she had heard awful things about him. <br />\\r\\n'],\n",
       "       ['<br />\\r\\n'],\n",
       "       [ '&quot;What could they possibly have said to make you move out?&quot;<br />\\r\\n'],\n",
       "       ['<br />\\r\\n'],\n",
       "       ['&quot;They told me that you were a pedophile.&quot;<br />\\r\\n'],\n",
       "       ['<br />\\r\\n'],\n",
       "       [ 'He replied, &quot;That&#039;s an awfully big word for a ten year old.&quot;\\r\\n'],\n",
       "       ['</p>\\r\\n'],\n",
       "       ['\\n'],\n",
       "       ['3:\\n'],\n",
       "       ['<p>\\r\\n'],\n",
       "       ['Q. What&#039;s 200 feet long and has 4 teeth?<br />\\r\\n'],\n",
       "       ['<br />\\r\\n'],\n",
       "       ['A. The front row at a Willie Nelson concert.\\r\\n'],\n",
       "       ['</p>\\r\\n'],\n",
       "       ['\\n'],\n",
       "       ['4:\\n'],\n",
       "       ['<p>\\r\\n'],\n",
       "       ['Q. What&#039;s the difference between a man and a toilet?<br />\\r\\n'],\n",
       "       ['<br />\\r\\n'],\n",
       "       ['A. A toilet doesn&#039;t follow you around after you use it.\\r\\n']], dtype=object)"
      ]
     },
     "execution_count": 26,
     "metadata": {},
     "output_type": "execute_result"
    }
   ],
   "source": [
    "numpymatrx[0:30]"
   ]
  },
  {
   "cell_type": "code",
   "execution_count": 27,
   "metadata": {
    "collapsed": true
   },
   "outputs": [],
   "source": [
    "df_n = pd.read_table('../data/jokes.dat')"
   ]
  },
  {
   "cell_type": "code",
   "execution_count": 28,
   "metadata": {
    "collapsed": false
   },
   "outputs": [
    {
     "data": {
      "text/html": [
       "<div>\n",
       "<table border=\"1\" class=\"dataframe\">\n",
       "  <thead>\n",
       "    <tr style=\"text-align: right;\">\n",
       "      <th></th>\n",
       "      <th>1:</th>\n",
       "    </tr>\n",
       "  </thead>\n",
       "  <tbody>\n",
       "    <tr>\n",
       "      <th>0</th>\n",
       "      <td>&lt;p&gt;</td>\n",
       "    </tr>\n",
       "    <tr>\n",
       "      <th>1</th>\n",
       "      <td>A man visits the doctor. The doctor says, &amp;quo...</td>\n",
       "    </tr>\n",
       "    <tr>\n",
       "      <th>2</th>\n",
       "      <td>&lt;br /&gt;</td>\n",
       "    </tr>\n",
       "    <tr>\n",
       "      <th>3</th>\n",
       "      <td>The man replies, &amp;quot;Well, thank God I don&amp;#...</td>\n",
       "    </tr>\n",
       "    <tr>\n",
       "      <th>4</th>\n",
       "      <td>&lt;/p&gt;</td>\n",
       "    </tr>\n",
       "    <tr>\n",
       "      <th>5</th>\n",
       "      <td>2:</td>\n",
       "    </tr>\n",
       "    <tr>\n",
       "      <th>6</th>\n",
       "      <td>&lt;p&gt;</td>\n",
       "    </tr>\n",
       "    <tr>\n",
       "      <th>7</th>\n",
       "      <td>This couple had an excellent relationship goin...</td>\n",
       "    </tr>\n",
       "    <tr>\n",
       "      <th>8</th>\n",
       "      <td>&lt;br /&gt;</td>\n",
       "    </tr>\n",
       "    <tr>\n",
       "      <th>9</th>\n",
       "      <td>&amp;quot;What could they possibly have said to ma...</td>\n",
       "    </tr>\n",
       "    <tr>\n",
       "      <th>10</th>\n",
       "      <td>&lt;br /&gt;</td>\n",
       "    </tr>\n",
       "    <tr>\n",
       "      <th>11</th>\n",
       "      <td>&amp;quot;They told me that you were a pedophile.&amp;...</td>\n",
       "    </tr>\n",
       "    <tr>\n",
       "      <th>12</th>\n",
       "      <td>&lt;br /&gt;</td>\n",
       "    </tr>\n",
       "    <tr>\n",
       "      <th>13</th>\n",
       "      <td>He replied, &amp;quot;That&amp;#039;s an awfully big w...</td>\n",
       "    </tr>\n",
       "    <tr>\n",
       "      <th>14</th>\n",
       "      <td>&lt;/p&gt;</td>\n",
       "    </tr>\n",
       "    <tr>\n",
       "      <th>15</th>\n",
       "      <td>3:</td>\n",
       "    </tr>\n",
       "    <tr>\n",
       "      <th>16</th>\n",
       "      <td>&lt;p&gt;</td>\n",
       "    </tr>\n",
       "    <tr>\n",
       "      <th>17</th>\n",
       "      <td>Q. What&amp;#039;s 200 feet long and has 4 teeth?&lt;...</td>\n",
       "    </tr>\n",
       "    <tr>\n",
       "      <th>18</th>\n",
       "      <td>&lt;br /&gt;</td>\n",
       "    </tr>\n",
       "    <tr>\n",
       "      <th>19</th>\n",
       "      <td>A. The front row at a Willie Nelson concert.</td>\n",
       "    </tr>\n",
       "    <tr>\n",
       "      <th>20</th>\n",
       "      <td>&lt;/p&gt;</td>\n",
       "    </tr>\n",
       "    <tr>\n",
       "      <th>21</th>\n",
       "      <td>4:</td>\n",
       "    </tr>\n",
       "    <tr>\n",
       "      <th>22</th>\n",
       "      <td>&lt;p&gt;</td>\n",
       "    </tr>\n",
       "    <tr>\n",
       "      <th>23</th>\n",
       "      <td>Q. What&amp;#039;s the difference between a man an...</td>\n",
       "    </tr>\n",
       "    <tr>\n",
       "      <th>24</th>\n",
       "      <td>&lt;br /&gt;</td>\n",
       "    </tr>\n",
       "    <tr>\n",
       "      <th>25</th>\n",
       "      <td>A. A toilet doesn&amp;#039;t follow you around aft...</td>\n",
       "    </tr>\n",
       "    <tr>\n",
       "      <th>26</th>\n",
       "      <td>&lt;/p&gt;</td>\n",
       "    </tr>\n",
       "    <tr>\n",
       "      <th>27</th>\n",
       "      <td>5:</td>\n",
       "    </tr>\n",
       "    <tr>\n",
       "      <th>28</th>\n",
       "      <td>&lt;p&gt;</td>\n",
       "    </tr>\n",
       "    <tr>\n",
       "      <th>29</th>\n",
       "      <td>Q. What&amp;#039;s O. J. Simpson&amp;#039;s web addres...</td>\n",
       "    </tr>\n",
       "    <tr>\n",
       "      <th>...</th>\n",
       "      <td>...</td>\n",
       "    </tr>\n",
       "    <tr>\n",
       "      <th>1246</th>\n",
       "      <td>Recently a teacher, a garbage collector, and a...</td>\n",
       "    </tr>\n",
       "    <tr>\n",
       "      <th>1247</th>\n",
       "      <td>&lt;br /&gt;</td>\n",
       "    </tr>\n",
       "    <tr>\n",
       "      <th>1248</th>\n",
       "      <td>St. Peter addressed the teacher and asked, &amp;qu...</td>\n",
       "    </tr>\n",
       "    <tr>\n",
       "      <th>1249</th>\n",
       "      <td>&lt;br /&gt;</td>\n",
       "    </tr>\n",
       "    <tr>\n",
       "      <th>1250</th>\n",
       "      <td>The teacher answered quickly, &amp;quot;That would...</td>\n",
       "    </tr>\n",
       "    <tr>\n",
       "      <th>1251</th>\n",
       "      <td>&lt;br /&gt;</td>\n",
       "    </tr>\n",
       "    <tr>\n",
       "      <th>1252</th>\n",
       "      <td>St. Peter turned to the garbage man and, figur...</td>\n",
       "    </tr>\n",
       "    <tr>\n",
       "      <th>1253</th>\n",
       "      <td>&lt;br /&gt;</td>\n",
       "    </tr>\n",
       "    <tr>\n",
       "      <th>1254</th>\n",
       "      <td>Fortunately for him, the trash man had just se...</td>\n",
       "    </tr>\n",
       "    <tr>\n",
       "      <th>1255</th>\n",
       "      <td>&lt;br /&gt;</td>\n",
       "    </tr>\n",
       "    <tr>\n",
       "      <th>1256</th>\n",
       "      <td>&amp;quot;That&amp;#039;s right! You may enter.&amp;quot;&lt;...</td>\n",
       "    </tr>\n",
       "    <tr>\n",
       "      <th>1257</th>\n",
       "      <td>&lt;br /&gt;</td>\n",
       "    </tr>\n",
       "    <tr>\n",
       "      <th>1258</th>\n",
       "      <td>St. Peter turned to the lawyer: &amp;quot;Name the...</td>\n",
       "    </tr>\n",
       "    <tr>\n",
       "      <th>1259</th>\n",
       "      <td>&lt;/p&gt;</td>\n",
       "    </tr>\n",
       "    <tr>\n",
       "      <th>1260</th>\n",
       "      <td>149:</td>\n",
       "    </tr>\n",
       "    <tr>\n",
       "      <th>1261</th>\n",
       "      <td>&lt;p&gt;</td>\n",
       "    </tr>\n",
       "    <tr>\n",
       "      <th>1262</th>\n",
       "      <td>A little girl asked her father, &amp;quot;Daddy? D...</td>\n",
       "    </tr>\n",
       "    <tr>\n",
       "      <th>1263</th>\n",
       "      <td>&lt;br /&gt;</td>\n",
       "    </tr>\n",
       "    <tr>\n",
       "      <th>1264</th>\n",
       "      <td>He replied, &amp;quot;No, there is a whole series ...</td>\n",
       "    </tr>\n",
       "    <tr>\n",
       "      <th>1265</th>\n",
       "      <td>&lt;/p&gt;</td>\n",
       "    </tr>\n",
       "    <tr>\n",
       "      <th>1266</th>\n",
       "      <td>150:</td>\n",
       "    </tr>\n",
       "    <tr>\n",
       "      <th>1267</th>\n",
       "      <td>&lt;p&gt;</td>\n",
       "    </tr>\n",
       "    <tr>\n",
       "      <th>1268</th>\n",
       "      <td>In an interview with David Letterman, Carter p...</td>\n",
       "    </tr>\n",
       "    <tr>\n",
       "      <th>1269</th>\n",
       "      <td>&lt;br /&gt;</td>\n",
       "    </tr>\n",
       "    <tr>\n",
       "      <th>1270</th>\n",
       "      <td>He told the joke, then waited for the translat...</td>\n",
       "    </tr>\n",
       "    <tr>\n",
       "      <th>1271</th>\n",
       "      <td>&lt;br /&gt;</td>\n",
       "    </tr>\n",
       "    <tr>\n",
       "      <th>1272</th>\n",
       "      <td>After the speech, Carter wanted to meet the tr...</td>\n",
       "    </tr>\n",
       "    <tr>\n",
       "      <th>1273</th>\n",
       "      <td>&lt;br /&gt;</td>\n",
       "    </tr>\n",
       "    <tr>\n",
       "      <th>1274</th>\n",
       "      <td>When Carter asked how the joke had been told i...</td>\n",
       "    </tr>\n",
       "    <tr>\n",
       "      <th>1275</th>\n",
       "      <td>&lt;/p&gt;</td>\n",
       "    </tr>\n",
       "  </tbody>\n",
       "</table>\n",
       "<p>1276 rows × 1 columns</p>\n",
       "</div>"
      ],
      "text/plain": [
       "                                                     1:\n",
       "0                                                   <p>\n",
       "1     A man visits the doctor. The doctor says, &quo...\n",
       "2                                                <br />\n",
       "3     The man replies, &quot;Well, thank God I don&#...\n",
       "4                                                  </p>\n",
       "5                                                    2:\n",
       "6                                                   <p>\n",
       "7     This couple had an excellent relationship goin...\n",
       "8                                                <br />\n",
       "9     &quot;What could they possibly have said to ma...\n",
       "10                                               <br />\n",
       "11    &quot;They told me that you were a pedophile.&...\n",
       "12                                               <br />\n",
       "13    He replied, &quot;That&#039;s an awfully big w...\n",
       "14                                                 </p>\n",
       "15                                                   3:\n",
       "16                                                  <p>\n",
       "17    Q. What&#039;s 200 feet long and has 4 teeth?<...\n",
       "18                                               <br />\n",
       "19         A. The front row at a Willie Nelson concert.\n",
       "20                                                 </p>\n",
       "21                                                   4:\n",
       "22                                                  <p>\n",
       "23    Q. What&#039;s the difference between a man an...\n",
       "24                                               <br />\n",
       "25    A. A toilet doesn&#039;t follow you around aft...\n",
       "26                                                 </p>\n",
       "27                                                   5:\n",
       "28                                                  <p>\n",
       "29    Q. What&#039;s O. J. Simpson&#039;s web addres...\n",
       "...                                                 ...\n",
       "1246  Recently a teacher, a garbage collector, and a...\n",
       "1247                                             <br />\n",
       "1248  St. Peter addressed the teacher and asked, &qu...\n",
       "1249                                             <br />\n",
       "1250  The teacher answered quickly, &quot;That would...\n",
       "1251                                             <br />\n",
       "1252  St. Peter turned to the garbage man and, figur...\n",
       "1253                                             <br />\n",
       "1254  Fortunately for him, the trash man had just se...\n",
       "1255                                             <br />\n",
       "1256  &quot;That&#039;s right! You may enter.&quot;<...\n",
       "1257                                             <br />\n",
       "1258  St. Peter turned to the lawyer: &quot;Name the...\n",
       "1259                                               </p>\n",
       "1260                                               149:\n",
       "1261                                                <p>\n",
       "1262  A little girl asked her father, &quot;Daddy? D...\n",
       "1263                                             <br />\n",
       "1264  He replied, &quot;No, there is a whole series ...\n",
       "1265                                               </p>\n",
       "1266                                               150:\n",
       "1267                                                <p>\n",
       "1268  In an interview with David Letterman, Carter p...\n",
       "1269                                             <br />\n",
       "1270  He told the joke, then waited for the translat...\n",
       "1271                                             <br />\n",
       "1272  After the speech, Carter wanted to meet the tr...\n",
       "1273                                             <br />\n",
       "1274  When Carter asked how the joke had been told i...\n",
       "1275                                               </p>\n",
       "\n",
       "[1276 rows x 1 columns]"
      ]
     },
     "execution_count": 28,
     "metadata": {},
     "output_type": "execute_result"
    }
   ],
   "source": [
    "df_n"
   ]
  },
  {
   "cell_type": "code",
   "execution_count": null,
   "metadata": {
    "collapsed": true
   },
   "outputs": [],
   "source": []
  }
 ],
 "metadata": {
  "anaconda-cloud": {},
  "kernelspec": {
   "display_name": "Python [conda root]",
   "language": "python",
   "name": "conda-root-py"
  },
  "language_info": {
   "codemirror_mode": {
    "name": "ipython",
    "version": 2
   },
   "file_extension": ".py",
   "mimetype": "text/x-python",
   "name": "python",
   "nbconvert_exporter": "python",
   "pygments_lexer": "ipython2",
   "version": "2.7.13"
  }
 },
 "nbformat": 4,
 "nbformat_minor": 2
}
